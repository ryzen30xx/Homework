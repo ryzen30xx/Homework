{
 "cells": [
  {
   "cell_type": "code",
   "execution_count": null,
   "metadata": {},
   "outputs": [],
   "source": [
    "counter = 0\n",
    "output = \"\"\n",
    "while counter < 4:\n",
    "    output += \"* \"\n",
    "    counter += 1\n",
    "print(output)\n"
   ]
  },
  {
   "cell_type": "code",
   "execution_count": 2,
   "metadata": {},
   "outputs": [
    {
     "name": "stdout",
     "output_type": "stream",
     "text": [
      "Product: apple Sold: 20 Price: 30000.0\n",
      "Total income: 30020.0\n"
     ]
    }
   ],
   "source": [
    "stop = False\n",
    "total = 0\n",
    "while not stop:\n",
    "    product = input(\"Enter your product: \")\n",
    "    sold = int(input(\"enter sold: \"))\n",
    "    price = float(input(\"enter price: \"))\n",
    "    print(\"Product:\", product, \"Sold:\", sold, \"Price:\", price)\n",
    "    total = sold * price\n",
    "    answer = input(\"Continue? [y/n]:\")\n",
    "    stop = answer = \"n\"\n",
    "print(f\"Total income: {total}\")"
   ]
  }
 ],
 "metadata": {
  "kernelspec": {
   "display_name": "Python 3",
   "language": "python",
   "name": "python3"
  },
  "language_info": {
   "codemirror_mode": {
    "name": "ipython",
    "version": 3
   },
   "file_extension": ".py",
   "mimetype": "text/x-python",
   "name": "python",
   "nbconvert_exporter": "python",
   "pygments_lexer": "ipython3",
   "version": "3.11.3"
  },
  "orig_nbformat": 4
 },
 "nbformat": 4,
 "nbformat_minor": 2
}
